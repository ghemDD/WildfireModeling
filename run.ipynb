{
 "cells": [
  {
   "cell_type": "markdown",
   "metadata": {},
   "source": [
    "# Wildfire Susceptibility mapping"
   ]
  },
  {
   "cell_type": "markdown",
   "metadata": {},
   "source": [
    "**Abstract**"
   ]
  },
  {
   "cell_type": "markdown",
   "metadata": {},
   "source": [
    "Table of Contents : \n",
    "\n",
    "- [Preprocessing]()"
   ]
  },
  {
   "cell_type": "markdown",
   "metadata": {},
   "source": [
    "## Libraries"
   ]
  },
  {
   "cell_type": "code",
   "execution_count": 1,
   "metadata": {},
   "outputs": [],
   "source": [
    "import numpy as np \n",
    "import pandas as pd\n",
    "import geopandas as gpd\n",
    "\n",
    "pd.set_option('display.max_rows', 4)"
   ]
  },
  {
   "cell_type": "markdown",
   "metadata": {},
   "source": [
    "## Preprocessing"
   ]
  },
  {
   "cell_type": "code",
   "execution_count": 2,
   "metadata": {},
   "outputs": [],
   "source": [
    "LAND_COVER_PATH = 'data/land_cover_2000/U2006_CLC2000_V2020_20u1.tif'\n",
    "DEM_PATH_v1 = 'data/dem/eu_dem_v11_E30N20.TIF'\n",
    "DEM_PATH_V0 = 'data/dem_v00/EUD_CP-DEMS_3500025000-AA.tif'\n",
    "DEM_REPROJ_PATH = 'data/dem_v00/dem_reproj.tif'\n",
    "DEM_REPROJ_RES_PATH = 'data/dem_v00/dem_test.tif'\n",
    "VEGETATION_PATH = 'data/'\n",
    "BURNT_AREAS_PATH = 'data/burnt_areas/modis.ba.poly.shp'\n",
    "PROTECTED_AREAS_PATH = 'data/ens/ens.shp'\n",
    "CONTOURS_PATH = 'data/contours/departements-20180101.shp'\n",
    "SLOPE_PATH = 'data/slope/EUD_CP-SLOP_3500025000-AA.tif'\n",
    "SLOPE_REPROJ_PATH = 'data/slope/sl_test.tif'"
   ]
  },
  {
   "cell_type": "code",
   "execution_count": 3,
   "metadata": {},
   "outputs": [],
   "source": [
    "import geopandas as gpd\n",
    "import shapely.geometry\n",
    "import shapely.wkt\n",
    "\n",
    "import rasterio \n",
    "from rasterio.plot import show\n",
    "from rasterio.warp import reproject, Resampling, calculate_default_transform\n",
    "from rasterio.features import rasterize\n",
    "\n",
    "import subprocess\n",
    "\n",
    "# CRS transformations\n",
    "import pyproj\n",
    "\n",
    "# raster operations\n",
    "import os\n",
    "from osgeo import gdal\n",
    "\n",
    "import rasterio.mask \n",
    "import rasterstats\n",
    "import math"
   ]
  },
  {
   "cell_type": "markdown",
   "metadata": {},
   "source": [
    "### Contouring"
   ]
  },
  {
   "cell_type": "code",
   "execution_count": 4,
   "metadata": {},
   "outputs": [],
   "source": [
    "contours = gpd.read_file(CONTOURS_PATH)"
   ]
  },
  {
   "cell_type": "code",
   "execution_count": 5,
   "metadata": {},
   "outputs": [
    {
     "data": {
      "text/plain": [
       "(102, 6)"
      ]
     },
     "execution_count": 5,
     "metadata": {},
     "output_type": "execute_result"
    }
   ],
   "source": [
    "contours.shape"
   ]
  },
  {
   "cell_type": "code",
   "execution_count": 6,
   "metadata": {},
   "outputs": [
    {
     "data": {
      "text/html": [
       "<div>\n",
       "<style scoped>\n",
       "    .dataframe tbody tr th:only-of-type {\n",
       "        vertical-align: middle;\n",
       "    }\n",
       "\n",
       "    .dataframe tbody tr th {\n",
       "        vertical-align: top;\n",
       "    }\n",
       "\n",
       "    .dataframe thead th {\n",
       "        text-align: right;\n",
       "    }\n",
       "</style>\n",
       "<table border=\"1\" class=\"dataframe\">\n",
       "  <thead>\n",
       "    <tr style=\"text-align: right;\">\n",
       "      <th></th>\n",
       "      <th>code_insee</th>\n",
       "      <th>nom</th>\n",
       "      <th>nuts3</th>\n",
       "      <th>wikipedia</th>\n",
       "      <th>surf_km2</th>\n",
       "      <th>geometry</th>\n",
       "    </tr>\n",
       "  </thead>\n",
       "  <tbody>\n",
       "    <tr>\n",
       "      <th>0</th>\n",
       "      <td>974</td>\n",
       "      <td>La RÃ©union</td>\n",
       "      <td>FR940</td>\n",
       "      <td>fr:La RÃ©union</td>\n",
       "      <td>2505.0</td>\n",
       "      <td>MULTIPOLYGON (((55.21643 -21.03904, 55.21652 -...</td>\n",
       "    </tr>\n",
       "    <tr>\n",
       "      <th>1</th>\n",
       "      <td>11</td>\n",
       "      <td>Aude</td>\n",
       "      <td>FR811</td>\n",
       "      <td>fr:Aude (dÃ©partement)</td>\n",
       "      <td>6343.0</td>\n",
       "      <td>POLYGON ((1.68872 43.27368, 1.69001 43.27423, ...</td>\n",
       "    </tr>\n",
       "    <tr>\n",
       "      <th>...</th>\n",
       "      <td>...</td>\n",
       "      <td>...</td>\n",
       "      <td>...</td>\n",
       "      <td>...</td>\n",
       "      <td>...</td>\n",
       "      <td>...</td>\n",
       "    </tr>\n",
       "    <tr>\n",
       "      <th>3</th>\n",
       "      <td>13</td>\n",
       "      <td>Bouches-du-RhÃ´ne</td>\n",
       "      <td>FR823</td>\n",
       "      <td>fr:Bouches-du-RhÃ´ne</td>\n",
       "      <td>5247.0</td>\n",
       "      <td>MULTIPOLYGON (((4.23014 43.46047, 4.23025 43.4...</td>\n",
       "    </tr>\n",
       "    <tr>\n",
       "      <th>4</th>\n",
       "      <td>47</td>\n",
       "      <td>Lot-et-Garonne</td>\n",
       "      <td>FR614</td>\n",
       "      <td>fr:Lot-et-Garonne</td>\n",
       "      <td>5385.0</td>\n",
       "      <td>POLYGON ((-0.14058 44.22648, -0.12931 44.23218...</td>\n",
       "    </tr>\n",
       "  </tbody>\n",
       "</table>\n",
       "<p>5 rows × 6 columns</p>\n",
       "</div>"
      ],
      "text/plain": [
       "   code_insee                nom  nuts3               wikipedia  surf_km2  \\\n",
       "0         974        La RÃ©union  FR940          fr:La RÃ©union    2505.0   \n",
       "1          11               Aude  FR811  fr:Aude (dÃ©partement)    6343.0   \n",
       "..        ...                ...    ...                     ...       ...   \n",
       "3          13  Bouches-du-RhÃ´ne  FR823    fr:Bouches-du-RhÃ´ne    5247.0   \n",
       "4          47     Lot-et-Garonne  FR614       fr:Lot-et-Garonne    5385.0   \n",
       "\n",
       "                                             geometry  \n",
       "0   MULTIPOLYGON (((55.21643 -21.03904, 55.21652 -...  \n",
       "1   POLYGON ((1.68872 43.27368, 1.69001 43.27423, ...  \n",
       "..                                                ...  \n",
       "3   MULTIPOLYGON (((4.23014 43.46047, 4.23025 43.4...  \n",
       "4   POLYGON ((-0.14058 44.22648, -0.12931 44.23218...  \n",
       "\n",
       "[5 rows x 6 columns]"
      ]
     },
     "execution_count": 6,
     "metadata": {},
     "output_type": "execute_result"
    }
   ],
   "source": [
    "contours.head()"
   ]
  },
  {
   "cell_type": "code",
   "execution_count": 7,
   "metadata": {},
   "outputs": [
    {
     "data": {
      "text/plain": [
       "<AxesSubplot: >"
      ]
     },
     "execution_count": 7,
     "metadata": {},
     "output_type": "execute_result"
    },
    {
     "data": {
      "image/png": "[encoded data removed]",
      "text/plain": [
       "<Figure size 432x288 with 1 Axes>"
      ]
     },
     "metadata": {
      "needs_background": "light"
     },
     "output_type": "display_data"
    }
   ],
   "source": [
    "contours.plot()"
   ]
  },
  {
   "cell_type": "markdown",
   "metadata": {},
   "source": [
    "We will use the department number to select the regions of interest : in this case, Pyrénées-Atlantiques (64) and Hautes-Pyrénées (65)."
   ]
  },
  {
   "cell_type": "code",
   "execution_count": 8,
   "metadata": {},
   "outputs": [
    {
     "data": {
      "text/plain": [
       "<AxesSubplot: >"
      ]
     },
     "execution_count": 8,
     "metadata": {},
     "output_type": "execute_result"
    },
    {
     "data": {
      "image/png": "[encoded data removed]",
      "text/plain": [
       "<Figure size 432x288 with 1 Axes>"
      ]
     },
     "metadata": {
      "needs_background": "light"
     },
     "output_type": "display_data"
    }
   ],
   "source": [
    "pyrenees = contours[(contours.code_insee == '64') | (contours.code_insee == '65')]\n",
    "pyrenees.plot()"
   ]
  },
  {
   "cell_type": "markdown",
   "metadata": {},
   "source": [
    "An important information to note is that the CRS used is the WGS 84: as we are in 2D, the CRS is commonly named EPSG 4326."
   ]
  },
  {
   "cell_type": "markdown",
   "metadata": {},
   "source": [
    "### Slope\n",
    "With the help of QGIS application, we performed the necessary transformation to simplify the CRS of the slope and DEM rasters."
   ]
  },
  {
   "cell_type": "code",
   "execution_count": 9,
   "metadata": {},
   "outputs": [],
   "source": [
    "slope_reproj = rasterio.open(SLOPE_REPROJ_PATH)\n",
    "slope = rasterio.open(SLOPE_PATH)"
   ]
  },
  {
   "cell_type": "code",
   "execution_count": 10,
   "metadata": {},
   "outputs": [
    {
     "data": {
      "text/plain": [
       "{'driver': 'GTiff',\n",
       " 'dtype': 'uint8',\n",
       " 'nodata': None,\n",
       " 'width': 40000,\n",
       " 'height': 40000,\n",
       " 'count': 1,\n",
       " 'crs': CRS.from_wkt('PROJCS[\"JRC-EGCS\",GEOGCS[\"ETRS89\",DATUM[\"unnamed\",SPHEROID[\"GRS 1980\",6378137,298.257222100004]],PRIMEM[\"Greenwich\",0],UNIT[\"degree\",0.0174532925199433,AUTHORITY[\"EPSG\",\"9122\"]]],PROJECTION[\"Lambert_Azimuthal_Equal_Area\"],PARAMETER[\"latitude_of_center\",52],PARAMETER[\"longitude_of_center\",10],PARAMETER[\"false_easting\",4321000],PARAMETER[\"false_northing\",3210000],UNIT[\"metre\",1],AXIS[\"Easting\",EAST],AXIS[\"Northing\",NORTH]]'),\n",
       " 'transform': Affine(25.0, 0.0, 3000000.0,\n",
       "        0.0, -25.0, 3000000.0)}"
      ]
     },
     "execution_count": 10,
     "metadata": {},
     "output_type": "execute_result"
    }
   ],
   "source": [
    "slope.meta"
   ]
  },
  {
   "cell_type": "code",
   "execution_count": 11,
   "metadata": {},
   "outputs": [
    {
     "data": {
      "text/plain": [
       "{'driver': 'GTiff',\n",
       " 'dtype': 'uint8',\n",
       " 'nodata': None,\n",
       " 'width': 10000,\n",
       " 'height': 10000,\n",
       " 'count': 1,\n",
       " 'crs': CRS.from_wkt('LOCAL_CS[\"ETRS89-extended / LAEA Europe\",UNIT[\"metre\",1,AUTHORITY[\"EPSG\",\"9001\"]],AXIS[\"Easting\",EAST],AXIS[\"Northing\",NORTH]]'),\n",
       " 'transform': Affine(100.0, 0.0, 3000000.0,\n",
       "        0.0, -100.0, 3000000.0)}"
      ]
     },
     "execution_count": 11,
     "metadata": {},
     "output_type": "execute_result"
    }
   ],
   "source": [
    "slope_reproj.meta"
   ]
  },
  {
   "cell_type": "markdown",
   "metadata": {},
   "source": [
    "### Digital Elevation Model"
   ]
  },
  {
   "cell_type": "code",
   "execution_count": 12,
   "metadata": {},
   "outputs": [
    {
     "name": "stdout",
     "output_type": "stream",
     "text": [
      "Wall time: 21.9 ms\n"
     ]
    }
   ],
   "source": [
    "%%time\n",
    "\n",
    "# open a connection to the raster\n",
    "dem = rasterio.open(DEM_PATH_V0)\n",
    "dem_reproj = rasterio.open(DEM_REPROJ_PATH)\n",
    "dem_test = rasterio.open(DEM_REPROJ_RES_PATH)"
   ]
  },
  {
   "cell_type": "code",
   "execution_count": 13,
   "metadata": {},
   "outputs": [
    {
     "ename": "KeyboardInterrupt",
     "evalue": "",
     "output_type": "error",
     "traceback": [
      "\u001b[1;31m---------------------------------------------------------------------------\u001b[0m",
      "\u001b[1;31mKeyboardInterrupt\u001b[0m                         Traceback (most recent call last)",
      "\u001b[1;32m<ipython-input-13-216b39c14680>\u001b[0m in \u001b[0;36m<module>\u001b[1;34m\u001b[0m\n\u001b[0;32m      1\u001b[0m \u001b[1;31m# plot the raster\u001b[0m\u001b[1;33m\u001b[0m\u001b[1;33m\u001b[0m\u001b[1;33m\u001b[0m\u001b[0m\n\u001b[1;32m----> 2\u001b[1;33m \u001b[0mshow\u001b[0m\u001b[1;33m(\u001b[0m\u001b[0mdem\u001b[0m\u001b[1;33m)\u001b[0m\u001b[1;33m\u001b[0m\u001b[1;33m\u001b[0m\u001b[0m\n\u001b[0m",
      "\u001b[1;32m~\\miniconda3\\lib\\site-packages\\rasterio\\plot.py\u001b[0m in \u001b[0;36mshow\u001b[1;34m(source, with_bounds, contour, contour_label_kws, ax, title, transform, adjust, **kwargs)\u001b[0m\n\u001b[0;32m     89\u001b[0m \u001b[1;33m\u001b[0m\u001b[0m\n\u001b[0;32m     90\u001b[0m         \u001b[1;32mif\u001b[0m \u001b[0msource\u001b[0m\u001b[1;33m.\u001b[0m\u001b[0mcount\u001b[0m \u001b[1;33m==\u001b[0m \u001b[1;36m1\u001b[0m\u001b[1;33m:\u001b[0m\u001b[1;33m\u001b[0m\u001b[1;33m\u001b[0m\u001b[0m\n\u001b[1;32m---> 91\u001b[1;33m             \u001b[0marr\u001b[0m \u001b[1;33m=\u001b[0m \u001b[0msource\u001b[0m\u001b[1;33m.\u001b[0m\u001b[0mread\u001b[0m\u001b[1;33m(\u001b[0m\u001b[1;36m1\u001b[0m\u001b[1;33m,\u001b[0m \u001b[0mmasked\u001b[0m\u001b[1;33m=\u001b[0m\u001b[1;32mTrue\u001b[0m\u001b[1;33m)\u001b[0m\u001b[1;33m\u001b[0m\u001b[1;33m\u001b[0m\u001b[0m\n\u001b[0m\u001b[0;32m     92\u001b[0m         \u001b[1;32melse\u001b[0m\u001b[1;33m:\u001b[0m\u001b[1;33m\u001b[0m\u001b[1;33m\u001b[0m\u001b[0m\n\u001b[0;32m     93\u001b[0m             \u001b[1;32mtry\u001b[0m\u001b[1;33m:\u001b[0m\u001b[1;33m\u001b[0m\u001b[1;33m\u001b[0m\u001b[0m\n",
      "\u001b[1;32mrasterio\\_io.pyx\u001b[0m in \u001b[0;36mrasterio._io.DatasetReaderBase.read\u001b[1;34m()\u001b[0m\n",
      "\u001b[1;32m~\\miniconda3\\lib\\site-packages\\numpy\\ma\\core.py\u001b[0m in \u001b[0;36marray\u001b[1;34m(data, dtype, copy, order, mask, fill_value, keep_mask, hard_mask, shrink, subok, ndmin)\u001b[0m\n\u001b[0;32m   6550\u001b[0m \u001b[1;33m\u001b[0m\u001b[0m\n\u001b[0;32m   6551\u001b[0m \u001b[1;33m\u001b[0m\u001b[0m\n\u001b[1;32m-> 6552\u001b[1;33m def array(data, dtype=None, copy=False, order=None,\n\u001b[0m\u001b[0;32m   6553\u001b[0m           \u001b[0mmask\u001b[0m\u001b[1;33m=\u001b[0m\u001b[0mnomask\u001b[0m\u001b[1;33m,\u001b[0m \u001b[0mfill_value\u001b[0m\u001b[1;33m=\u001b[0m\u001b[1;32mNone\u001b[0m\u001b[1;33m,\u001b[0m \u001b[0mkeep_mask\u001b[0m\u001b[1;33m=\u001b[0m\u001b[1;32mTrue\u001b[0m\u001b[1;33m,\u001b[0m\u001b[1;33m\u001b[0m\u001b[1;33m\u001b[0m\u001b[0m\n\u001b[0;32m   6554\u001b[0m           hard_mask=False, shrink=True, subok=True, ndmin=0):\n",
      "\u001b[1;31mKeyboardInterrupt\u001b[0m: "
     ]
    }
   ],
   "source": [
    "# plot the raster\n",
    "show(dem)"
   ]
  },
  {
   "cell_type": "code",
   "execution_count": 13,
   "metadata": {},
   "outputs": [
    {
     "data": {
      "text/plain": [
       "{'driver': 'GTiff',\n",
       " 'dtype': 'float32',\n",
       " 'nodata': None,\n",
       " 'width': 40000,\n",
       " 'height': 40000,\n",
       " 'count': 1,\n",
       " 'crs': CRS.from_wkt('PROJCS[\"JRC-EGCS\",GEOGCS[\"ETRS89\",DATUM[\"unnamed\",SPHEROID[\"GRS 1980\",6378137,298.257222100004]],PRIMEM[\"Greenwich\",0],UNIT[\"degree\",0.0174532925199433,AUTHORITY[\"EPSG\",\"9122\"]]],PROJECTION[\"Lambert_Azimuthal_Equal_Area\"],PARAMETER[\"latitude_of_center\",52],PARAMETER[\"longitude_of_center\",10],PARAMETER[\"false_easting\",4321000],PARAMETER[\"false_northing\",3210000],UNIT[\"metre\",1],AXIS[\"Easting\",EAST],AXIS[\"Northing\",NORTH]]'),\n",
       " 'transform': Affine(25.0, 0.0, 3000000.0,\n",
       "        0.0, -25.0, 3000000.0)}"
      ]
     },
     "execution_count": 13,
     "metadata": {},
     "output_type": "execute_result"
    }
   ],
   "source": [
    "# raster metadata\n",
    "dem.meta"
   ]
  },
  {
   "cell_type": "code",
   "execution_count": 14,
   "metadata": {},
   "outputs": [
    {
     "data": {
      "text/plain": [
       "{'driver': 'GTiff',\n",
       " 'dtype': 'float32',\n",
       " 'nodata': None,\n",
       " 'width': 40000,\n",
       " 'height': 40000,\n",
       " 'count': 1,\n",
       " 'crs': CRS.from_wkt('LOCAL_CS[\"ETRS89-extended / LAEA Europe\",UNIT[\"metre\",1,AUTHORITY[\"EPSG\",\"9001\"]],AXIS[\"Easting\",EAST],AXIS[\"Northing\",NORTH]]'),\n",
       " 'transform': Affine(25.0, 0.0, 3000000.0,\n",
       "        0.0, -25.0, 3000000.0)}"
      ]
     },
     "execution_count": 14,
     "metadata": {},
     "output_type": "execute_result"
    }
   ],
   "source": [
    "dem_reproj.meta"
   ]
  },
  {
   "cell_type": "code",
   "execution_count": 15,
   "metadata": {},
   "outputs": [
    {
     "data": {
      "text/plain": [
       "{'driver': 'GTiff',\n",
       " 'dtype': 'float32',\n",
       " 'nodata': None,\n",
       " 'width': 10000,\n",
       " 'height': 10000,\n",
       " 'count': 1,\n",
       " 'crs': CRS.from_wkt('LOCAL_CS[\"ETRS89-extended / LAEA Europe\",UNIT[\"metre\",1,AUTHORITY[\"EPSG\",\"9001\"]],AXIS[\"Easting\",EAST],AXIS[\"Northing\",NORTH]]'),\n",
       " 'transform': Affine(100.0, 0.0, 3000000.0,\n",
       "        0.0, -100.0, 3000000.0)}"
      ]
     },
     "execution_count": 15,
     "metadata": {},
     "output_type": "execute_result"
    }
   ],
   "source": [
    "dem_test.meta"
   ]
  },
  {
   "cell_type": "code",
   "execution_count": 16,
   "metadata": {},
   "outputs": [
    {
     "ename": "NameError",
     "evalue": "name 'land_cov_2000' is not defined",
     "output_type": "error",
     "traceback": [
      "\u001b[1;31m---------------------------------------------------------------------------\u001b[0m",
      "\u001b[1;31mNameError\u001b[0m                                 Traceback (most recent call last)",
      "\u001b[1;32m<ipython-input-16-1cd6bee32817>\u001b[0m in \u001b[0;36m<module>\u001b[1;34m\u001b[0m\n\u001b[1;32m----> 1\u001b[1;33m \u001b[0mland_cov_2000\u001b[0m\u001b[1;33m.\u001b[0m\u001b[0mmeta\u001b[0m\u001b[1;33m\u001b[0m\u001b[1;33m\u001b[0m\u001b[0m\n\u001b[0m",
      "\u001b[1;31mNameError\u001b[0m: name 'land_cov_2000' is not defined"
     ]
    }
   ],
   "source": [
    "land_cov_2000.meta"
   ]
  },
  {
   "cell_type": "markdown",
   "metadata": {},
   "source": [
    "The metadata of the raster file give us important informations : the CRS used is the ETRS_1989 or EPSG 3035 if we use the EPSG classification. The unit used is the meter, its resolution is 25x25 meters with the origin starting at (3000000.0, 3000000.0) in its corresponding CRS.  \n",
    "The land cover raster had a resolution of 100x100 meters, therefore we need to aggregate the values of four non-overlapping  adjacent cells to obtain the same resolution. With the help of QGIS application, we have reprojected DEM and slope data so that it is recognized by the ESPG registry. It will help us merge the transform of the different rasters.  "
   ]
  },
  {
   "cell_type": "code",
   "execution_count": null,
   "metadata": {},
   "outputs": [],
   "source": []
  },
  {
   "cell_type": "code",
   "execution_count": null,
   "metadata": {},
   "outputs": [],
   "source": [
    "%%time\n",
    "# we have used Qgis and gdal to perform the projections and change of resolutions \n",
    "'''\n",
    "# change the resolution, transform and crs of dem data to match land cover metadata\n",
    "# use rasterio.reproject() using the same crs as src and dst\n",
    "\n",
    "with rasterio.open(DEM_PATH) as src_dem:\n",
    "    print(type(src_dem))\n",
    "    \n",
    "    # transform for input raster\n",
    "    src_transform = src_dem.transform\n",
    "    # dem crs not recognized by rasterio : we assume that land cover and dem data have the same crs : epsg 3035\n",
    "    dst_crs = land_cov.crs\n",
    "    src_crs = land_cov.crs\n",
    "    \n",
    "    # calculate the transform matrix for the output\n",
    "    dst_transform, width, height = calculate_default_transform(\n",
    "        dst_crs,    # source CRS\n",
    "        dst_crs,    # destination CRS\n",
    "        src_dem.width,    # column count\n",
    "        src_dem.height,  # row count\n",
    "        *src_dem.bounds,  # unpacks outer boundaries (left, bottom, right, top)\n",
    "    )\n",
    "    \n",
    "    # set properties for output\n",
    "    dst_kwargs = src_dem.meta.copy()\n",
    "    dst_kwargs.update(\n",
    "        {\n",
    "            \"crs\": dst_crs,\n",
    "            \"transform\": dst_transform,\n",
    "            \"width\": width,\n",
    "            \"height\": height,\n",
    "            \"nodata\": land_cov.meta['nodata'], \n",
    "        }\n",
    "    )\n",
    "    \n",
    "    print(src_dem.meta)\n",
    "    \n",
    "    with rasterio.open(\"dem_reproj\", \"w\", **dst_kwargs) as dst:\n",
    "        reproject(\n",
    "            source = src_dem,\n",
    "            destination = dst,\n",
    "            src_transform=src_transform,\n",
    "            src_crs=src_crs,\n",
    "            dst_transform=dst_transform,\n",
    "            dst_crs=dst_crs,\n",
    "            resampling=Resampling.nearest)'''"
   ]
  },
  {
   "cell_type": "markdown",
   "metadata": {},
   "source": [
    "### Land Cover"
   ]
  },
  {
   "cell_type": "code",
   "execution_count": 67,
   "metadata": {},
   "outputs": [],
   "source": [
    "# 2000 land_cover data\n",
    "land_cov_2000 = rasterio.open(LAND_COVER_PATH)"
   ]
  },
  {
   "cell_type": "code",
   "execution_count": null,
   "metadata": {},
   "outputs": [],
   "source": [
    "# visualize with QGIS: memory problem\n",
    "show(land_cov_2000)"
   ]
  },
  {
   "cell_type": "code",
   "execution_count": 18,
   "metadata": {},
   "outputs": [
    {
     "data": {
      "text/plain": [
       "{'driver': 'GTiff',\n",
       " 'dtype': 'int8',\n",
       " 'nodata': -128.0,\n",
       " 'width': 65000,\n",
       " 'height': 46000,\n",
       " 'count': 1,\n",
       " 'crs': CRS.from_wkt('LOCAL_CS[\"ETRS_1989_LAEA\",UNIT[\"metre\",1,AUTHORITY[\"EPSG\",\"9001\"]],AXIS[\"Easting\",EAST],AXIS[\"Northing\",NORTH]]'),\n",
       " 'transform': Affine(100.0, 0.0, 900000.0,\n",
       "        0.0, -100.0, 5500000.0)}"
      ]
     },
     "execution_count": 18,
     "metadata": {},
     "output_type": "execute_result"
    }
   ],
   "source": [
    "land_cov_2000.meta"
   ]
  },
  {
   "cell_type": "markdown",
   "metadata": {},
   "source": [
    "The metadata of the raster file give us important informations : the CRS used is the ETRS_1989 or EPSG 3035 if we use the EPSG classification. The unit used is the meter, its resolution is 100x100 meters with the origin starting at (900000.0, 900000.0) in its corresponding CRS."
   ]
  },
  {
   "cell_type": "code",
   "execution_count": 19,
   "metadata": {},
   "outputs": [
    {
     "ename": "KeyboardInterrupt",
     "evalue": "",
     "output_type": "error",
     "traceback": [
      "\u001b[1;31m---------------------------------------------------------------------------\u001b[0m",
      "\u001b[1;31mKeyboardInterrupt\u001b[0m                         Traceback (most recent call last)",
      "\u001b[1;32m<ipython-input-19-1bb0b23aa999>\u001b[0m in \u001b[0;36m<module>\u001b[1;34m\u001b[0m\n\u001b[0;32m      1\u001b[0m \u001b[1;31m# the memory footprint of the raster seems heavy, thus we will need to mask the data using the contours shapefile we have seen previously\u001b[0m\u001b[1;33m\u001b[0m\u001b[1;33m\u001b[0m\u001b[1;33m\u001b[0m\u001b[0m\n\u001b[1;32m----> 2\u001b[1;33m \u001b[0mlayer_cov\u001b[0m \u001b[1;33m=\u001b[0m \u001b[0mland_cov_2000\u001b[0m\u001b[1;33m.\u001b[0m\u001b[0mread\u001b[0m\u001b[1;33m(\u001b[0m\u001b[1;36m1\u001b[0m\u001b[1;33m)\u001b[0m\u001b[1;33m\u001b[0m\u001b[1;33m\u001b[0m\u001b[0m\n\u001b[0m",
      "\u001b[1;31mKeyboardInterrupt\u001b[0m: "
     ]
    }
   ],
   "source": [
    "# the memory footprint of the raster seems heavy, thus we will need to mask the data using the contours shapefile we have seen previously\n",
    "layer_cov = land_cov_2000.read(1)"
   ]
  },
  {
   "cell_type": "code",
   "execution_count": 20,
   "metadata": {},
   "outputs": [
    {
     "data": {
      "text/plain": [
       "{'driver': 'GTiff',\n",
       " 'dtype': 'int8',\n",
       " 'nodata': -128.0,\n",
       " 'width': 65000,\n",
       " 'height': 46000,\n",
       " 'count': 1,\n",
       " 'crs': CRS.from_wkt('LOCAL_CS[\"ETRS_1989_LAEA\",UNIT[\"metre\",1,AUTHORITY[\"EPSG\",\"9001\"]],AXIS[\"Easting\",EAST],AXIS[\"Northing\",NORTH]]'),\n",
       " 'transform': Affine(100.0, 0.0, 900000.0,\n",
       "        0.0, -100.0, 5500000.0)}"
      ]
     },
     "execution_count": 20,
     "metadata": {},
     "output_type": "execute_result"
    }
   ],
   "source": [
    "land_cov_2000.meta"
   ]
  },
  {
   "cell_type": "code",
   "execution_count": 21,
   "metadata": {},
   "outputs": [
    {
     "data": {
      "text/plain": [
       "{'driver': 'GTiff',\n",
       " 'dtype': 'float32',\n",
       " 'nodata': None,\n",
       " 'width': 10000,\n",
       " 'height': 10000,\n",
       " 'count': 1,\n",
       " 'crs': CRS.from_wkt('LOCAL_CS[\"ETRS89-extended / LAEA Europe\",UNIT[\"metre\",1,AUTHORITY[\"EPSG\",\"9001\"]],AXIS[\"Easting\",EAST],AXIS[\"Northing\",NORTH]]'),\n",
       " 'transform': Affine(100.0, 0.0, 3000000.0,\n",
       "        0.0, -100.0, 3000000.0)}"
      ]
     },
     "execution_count": 21,
     "metadata": {},
     "output_type": "execute_result"
    }
   ],
   "source": [
    "dem_test.meta"
   ]
  },
  {
   "cell_type": "markdown",
   "metadata": {},
   "source": [
    "Now we need to crop the raster file to the area of interest in the study that is the pyrenees dataframe we have previously defined.  \n",
    "First we need to convert the CRS of the contours vector into the CRS of land cover/dem rasters.  \n",
    "For simplicity, we consider that the land cover/dem have the same crs EPSG:3035 (ETRS89-LAEA)"
   ]
  },
  {
   "cell_type": "code",
   "execution_count": 23,
   "metadata": {},
   "outputs": [
    {
     "name": "stdout",
     "output_type": "stream",
     "text": [
      "LAND COVER CROPPING\n",
      "(1157, 1944)\n",
      "| 100.00, 0.00, 3367000.00|\n",
      "| 0.00,-100.00, 2341200.00|\n",
      "| 0.00, 0.00, 1.00|\n",
      "\n",
      "DEM CROPPING\n",
      "(1157, 1944)\n",
      "| 100.00, 0.00, 3367000.00|\n",
      "| 0.00,-100.00, 2341200.00|\n",
      "| 0.00, 0.00, 1.00|\n",
      "\n",
      "SLOPE CROPPING\n",
      "(1157, 1944)\n",
      "| 100.00, 0.00, 3367000.00|\n",
      "| 0.00,-100.00, 2341200.00|\n",
      "| 0.00, 0.00, 1.00|\n"
     ]
    }
   ],
   "source": [
    "# affine transform of vector shapes ?\n",
    "\n",
    "pyrenees_proj = pyrenees.to_crs(epsg='3035')\n",
    "\n",
    "land_cover_mask, land_cover_transform_mask = rasterio.mask.mask(\n",
    "    land_cov_2000, \n",
    "    pyrenees_proj.geometry, \n",
    "    crop=True, \n",
    "    nodata=land_cov_2000.meta['nodata']\n",
    ")\n",
    "\n",
    "dem_mask, dem_transform_mask = rasterio.mask.mask(\n",
    "    dem_test, \n",
    "    pyrenees_proj.geometry,\n",
    "    crop=True, \n",
    "    nodata=dem_test.meta['nodata']\n",
    ")\n",
    "\n",
    "slope_mask, slope_transform_mask = rasterio.mask.mask(\n",
    "    slope_reproj, \n",
    "    pyrenees_proj.geometry,\n",
    "    crop=True, \n",
    "    nodata=slope_reproj.meta['nodata']\n",
    ")\n",
    "\n",
    "# TODO: homegeneise land cover and dem data beforehand \n",
    "print('LAND COVER CROPPING')\n",
    "print(land_cover_mask.squeeze().shape)\n",
    "print(land_cover_transform_mask)\n",
    "\n",
    "print('\\nDEM CROPPING')\n",
    "print(dem_mask.squeeze().shape)\n",
    "print(dem_transform_mask)\n",
    "\n",
    "print('\\nSLOPE CROPPING')\n",
    "print(slope_mask.squeeze().shape)\n",
    "print(slope_transform_mask)"
   ]
  },
  {
   "cell_type": "markdown",
   "metadata": {},
   "source": [
    "### Burnt Areas\n",
    "\n",
    "TODO: EDA on this file\n",
    "\n",
    "We will use this file to label the areas of interest in this study. First we will perform an exploratory data analysis to give us insights on the nature of the data."
   ]
  },
  {
   "cell_type": "code",
   "execution_count": 39,
   "metadata": {},
   "outputs": [],
   "source": [
    "burnt = gpd.read_file(BURNT_AREAS_PATH)"
   ]
  },
  {
   "cell_type": "code",
   "execution_count": 40,
   "metadata": {},
   "outputs": [
    {
     "data": {
      "text/plain": [
       "(62822, 19)"
      ]
     },
     "execution_count": 40,
     "metadata": {},
     "output_type": "execute_result"
    }
   ],
   "source": [
    "burnt.shape"
   ]
  },
  {
   "cell_type": "code",
   "execution_count": 41,
   "metadata": {},
   "outputs": [
    {
     "data": {
      "text/plain": [
       "id          3158\n",
       "FIREDATE    3158\n",
       "            ... \n",
       "CLASS       3158\n",
       "geometry    3158\n",
       "Length: 19, dtype: int64"
      ]
     },
     "execution_count": 41,
     "metadata": {},
     "output_type": "execute_result"
    }
   ],
   "source": [
    "burnt[burnt.COUNTRY=='FR'].count()\n",
    "\n",
    "# EDA : \n",
    "# plot total number of fires per country \n",
    "# plot total number of fires per year  "
   ]
  },
  {
   "cell_type": "code",
   "execution_count": 42,
   "metadata": {},
   "outputs": [
    {
     "data": {
      "text/plain": [
       "<AxesSubplot: >"
      ]
     },
     "execution_count": 42,
     "metadata": {},
     "output_type": "execute_result"
    },
    {
     "data": {
      "image/png": "[encoded data removed]",
      "text/plain": [
       "<Figure size 432x288 with 1 Axes>"
      ]
     },
     "metadata": {
      "needs_background": "light"
     },
     "output_type": "display_data"
    }
   ],
   "source": [
    "burnt[(burnt.COUNTRY == 'IT') | (burnt.COUNTRY == 'PT') |\n",
    "     (burnt.COUNTRY == 'ES') | (burnt.COUNTRY == 'FR')].plot()"
   ]
  },
  {
   "cell_type": "code",
   "execution_count": 43,
   "metadata": {},
   "outputs": [
    {
     "data": {
      "text/plain": [
       "Polygon         61707\n",
       "MultiPolygon     1115\n",
       "dtype: int64"
      ]
     },
     "execution_count": 43,
     "metadata": {},
     "output_type": "execute_result"
    }
   ],
   "source": [
    "burnt['geometry'].type.value_counts()"
   ]
  },
  {
   "cell_type": "code",
   "execution_count": 44,
   "metadata": {},
   "outputs": [
    {
     "data": {
      "text/plain": [
       "{'init': 'epsg:4326'}"
      ]
     },
     "execution_count": 44,
     "metadata": {},
     "output_type": "execute_result"
    }
   ],
   "source": [
    "burnt['geometry'].crs"
   ]
  },
  {
   "cell_type": "markdown",
   "metadata": {},
   "source": [
    "We see that the shapefile is in different Coordinate Reference System than land cover and digital elevation model data (coming from Copernicus sources). The next step is to project this shapefile from CRS EPSG 4236 to EPSG 3035."
   ]
  },
  {
   "cell_type": "code",
   "execution_count": 45,
   "metadata": {},
   "outputs": [
    {
     "data": {
      "text/html": [
       "<div>\n",
       "<style scoped>\n",
       "    .dataframe tbody tr th:only-of-type {\n",
       "        vertical-align: middle;\n",
       "    }\n",
       "\n",
       "    .dataframe tbody tr th {\n",
       "        vertical-align: top;\n",
       "    }\n",
       "\n",
       "    .dataframe thead th {\n",
       "        text-align: right;\n",
       "    }\n",
       "</style>\n",
       "<table border=\"1\" class=\"dataframe\">\n",
       "  <thead>\n",
       "    <tr style=\"text-align: right;\">\n",
       "      <th></th>\n",
       "      <th>id</th>\n",
       "      <th>FIREDATE</th>\n",
       "      <th>LASTUPDATE</th>\n",
       "      <th>COUNTRY</th>\n",
       "      <th>PROVINCE</th>\n",
       "      <th>COMMUNE</th>\n",
       "      <th>AREA_HA</th>\n",
       "      <th>BROADLEA</th>\n",
       "      <th>CONIFER</th>\n",
       "      <th>MIXED</th>\n",
       "      <th>SCLEROPH</th>\n",
       "      <th>TRANSIT</th>\n",
       "      <th>OTHERNATLC</th>\n",
       "      <th>AGRIAREAS</th>\n",
       "      <th>ARTIFSURF</th>\n",
       "      <th>OTHERLC</th>\n",
       "      <th>PERCNA2K</th>\n",
       "      <th>CLASS</th>\n",
       "      <th>geometry</th>\n",
       "      <th>YEAR</th>\n",
       "    </tr>\n",
       "  </thead>\n",
       "  <tbody>\n",
       "    <tr>\n",
       "      <th>3523</th>\n",
       "      <td>178793</td>\n",
       "      <td>2001-12-25 00:00:00</td>\n",
       "      <td>2001-12-25 00:00:00</td>\n",
       "      <td>FR</td>\n",
       "      <td>Pyrénées-Atlantiques</td>\n",
       "      <td>Sainte-Engrâce</td>\n",
       "      <td>17</td>\n",
       "      <td>99.999999999375</td>\n",
       "      <td>0</td>\n",
       "      <td>0</td>\n",
       "      <td>0</td>\n",
       "      <td>0</td>\n",
       "      <td>0</td>\n",
       "      <td>0</td>\n",
       "      <td>0</td>\n",
       "      <td>0</td>\n",
       "      <td>2.1781429291483865</td>\n",
       "      <td>FireSeason</td>\n",
       "      <td>POLYGON ((3438525.283 2272578.578, 3438880.513...</td>\n",
       "      <td>2001</td>\n",
       "    </tr>\n",
       "    <tr>\n",
       "      <th>3612</th>\n",
       "      <td>178973</td>\n",
       "      <td>2001-12-25 00:00:00</td>\n",
       "      <td>2001-12-27 00:00:00</td>\n",
       "      <td>FR</td>\n",
       "      <td>Pyrénées-Atlantiques</td>\n",
       "      <td>Lanne-en-Barétous</td>\n",
       "      <td>70</td>\n",
       "      <td>1.4285714285693878</td>\n",
       "      <td>69.9999999999</td>\n",
       "      <td>25.71428571424898</td>\n",
       "      <td>0</td>\n",
       "      <td>0</td>\n",
       "      <td>2.8571428571387756</td>\n",
       "      <td>0</td>\n",
       "      <td>0</td>\n",
       "      <td>0</td>\n",
       "      <td>4.115763973318598</td>\n",
       "      <td>FireSeason</td>\n",
       "      <td>POLYGON ((3441180.296 2276133.481, 3440470.228...</td>\n",
       "      <td>2001</td>\n",
       "    </tr>\n",
       "    <tr>\n",
       "      <th>...</th>\n",
       "      <td>...</td>\n",
       "      <td>...</td>\n",
       "      <td>...</td>\n",
       "      <td>...</td>\n",
       "      <td>...</td>\n",
       "      <td>...</td>\n",
       "      <td>...</td>\n",
       "      <td>...</td>\n",
       "      <td>...</td>\n",
       "      <td>...</td>\n",
       "      <td>...</td>\n",
       "      <td>...</td>\n",
       "      <td>...</td>\n",
       "      <td>...</td>\n",
       "      <td>...</td>\n",
       "      <td>...</td>\n",
       "      <td>...</td>\n",
       "      <td>...</td>\n",
       "      <td>...</td>\n",
       "      <td>...</td>\n",
       "    </tr>\n",
       "    <tr>\n",
       "      <th>3822</th>\n",
       "      <td>30231</td>\n",
       "      <td>2002-01-01 00:00:00</td>\n",
       "      <td>2002-01-01 00:00:00</td>\n",
       "      <td>FR</td>\n",
       "      <td>Pyrénées-Atlantiques</td>\n",
       "      <td>Tardets-Sorholus</td>\n",
       "      <td>525</td>\n",
       "      <td>19.011406844102847</td>\n",
       "      <td>4.372623574143655</td>\n",
       "      <td>0</td>\n",
       "      <td>0</td>\n",
       "      <td>0</td>\n",
       "      <td>65.01901140683174</td>\n",
       "      <td>11.596958174902737</td>\n",
       "      <td>0</td>\n",
       "      <td>0</td>\n",
       "      <td>0.7337047692039197</td>\n",
       "      <td>FireSeason</td>\n",
       "      <td>POLYGON ((3441207.794 2288728.781, 3441189.152...</td>\n",
       "      <td>2002</td>\n",
       "    </tr>\n",
       "    <tr>\n",
       "      <th>3994</th>\n",
       "      <td>30543</td>\n",
       "      <td>2002-01-01 00:00:00</td>\n",
       "      <td>2002-01-01 00:00:00</td>\n",
       "      <td>FR</td>\n",
       "      <td>Pyrénées-Atlantiques</td>\n",
       "      <td>Ascain</td>\n",
       "      <td>176</td>\n",
       "      <td>20.454545454533836</td>\n",
       "      <td>0</td>\n",
       "      <td>0</td>\n",
       "      <td>0</td>\n",
       "      <td>0</td>\n",
       "      <td>74.9999999999574</td>\n",
       "      <td>3.409090909088972</td>\n",
       "      <td>1.1363636363629908</td>\n",
       "      <td>0</td>\n",
       "      <td>5.2270921294597805</td>\n",
       "      <td>FireSeason</td>\n",
       "      <td>POLYGON ((3378629.527 2321046.477, 3378609.433...</td>\n",
       "      <td>2002</td>\n",
       "    </tr>\n",
       "  </tbody>\n",
       "</table>\n",
       "<p>5 rows × 20 columns</p>\n",
       "</div>"
      ],
      "text/plain": [
       "          id             FIREDATE           LASTUPDATE COUNTRY  \\\n",
       "3523  178793  2001-12-25 00:00:00  2001-12-25 00:00:00      FR   \n",
       "3612  178973  2001-12-25 00:00:00  2001-12-27 00:00:00      FR   \n",
       "...      ...                  ...                  ...     ...   \n",
       "3822   30231  2002-01-01 00:00:00  2002-01-01 00:00:00      FR   \n",
       "3994   30543  2002-01-01 00:00:00  2002-01-01 00:00:00      FR   \n",
       "\n",
       "                  PROVINCE            COMMUNE AREA_HA            BROADLEA  \\\n",
       "3523  Pyrénées-Atlantiques     Sainte-Engrâce      17     99.999999999375   \n",
       "3612  Pyrénées-Atlantiques  Lanne-en-Barétous      70  1.4285714285693878   \n",
       "...                    ...                ...     ...                 ...   \n",
       "3822  Pyrénées-Atlantiques   Tardets-Sorholus     525  19.011406844102847   \n",
       "3994  Pyrénées-Atlantiques             Ascain     176  20.454545454533836   \n",
       "\n",
       "                CONIFER              MIXED SCLEROPH TRANSIT  \\\n",
       "3523                  0                  0        0       0   \n",
       "3612      69.9999999999  25.71428571424898        0       0   \n",
       "...                 ...                ...      ...     ...   \n",
       "3822  4.372623574143655                  0        0       0   \n",
       "3994                  0                  0        0       0   \n",
       "\n",
       "              OTHERNATLC           AGRIAREAS           ARTIFSURF OTHERLC  \\\n",
       "3523                   0                   0                   0       0   \n",
       "3612  2.8571428571387756                   0                   0       0   \n",
       "...                  ...                 ...                 ...     ...   \n",
       "3822   65.01901140683174  11.596958174902737                   0       0   \n",
       "3994    74.9999999999574   3.409090909088972  1.1363636363629908       0   \n",
       "\n",
       "                PERCNA2K       CLASS  \\\n",
       "3523  2.1781429291483865  FireSeason   \n",
       "3612   4.115763973318598  FireSeason   \n",
       "...                  ...         ...   \n",
       "3822  0.7337047692039197  FireSeason   \n",
       "3994  5.2270921294597805  FireSeason   \n",
       "\n",
       "                                               geometry  YEAR  \n",
       "3523  POLYGON ((3438525.283 2272578.578, 3438880.513...  2001  \n",
       "3612  POLYGON ((3441180.296 2276133.481, 3440470.228...  2001  \n",
       "...                                                 ...   ...  \n",
       "3822  POLYGON ((3441207.794 2288728.781, 3441189.152...  2002  \n",
       "3994  POLYGON ((3378629.527 2321046.477, 3378609.433...  2002  \n",
       "\n",
       "[5 rows x 20 columns]"
      ]
     },
     "execution_count": 45,
     "metadata": {},
     "output_type": "execute_result"
    }
   ],
   "source": [
    "# We restrict the shapefile to fires happening in France \n",
    "burnt_pyrenees = burnt[(burnt.COUNTRY=='FR') & (burnt.PROVINCE=='Hautes-Pyrénées') | (burnt.PROVINCE == 'Pyrénées-Atlantiques')]\n",
    "\n",
    "\n",
    "# change crs to espg 3035\n",
    "burnt_pyrenees = burnt_pyrenees.to_crs(epsg='3035')\n",
    "\n",
    "# we extract the year of the firedate and change the type to int\n",
    "burnt_pyrenees['YEAR'] = burnt_pyrenees['FIREDATE'].apply(lambda d: int(d[:4]))\n",
    "burnt_pyrenees.head()"
   ]
  },
  {
   "cell_type": "markdown",
   "metadata": {},
   "source": [
    "The next step is to rasterize the burnt areas shapefile with the same resolution as the other rasters i.e 100x100m, in the same CRS i.e EPSG 3035."
   ]
  },
  {
   "cell_type": "code",
   "execution_count": 65,
   "metadata": {},
   "outputs": [
    {
     "name": "stdout",
     "output_type": "stream",
     "text": [
      "[3367045.56860202 2225527.26600656 3561342.78155953 2341146.00704033]\n",
      "[3370329.21071314 2230008.19838224 3553204.79441611 2325000.49717843]\n"
     ]
    },
    {
     "ename": "TypeError",
     "evalue": "from_origin() missing 4 required positional arguments: 'west', 'north', 'xsize', and 'ysize'",
     "output_type": "error",
     "traceback": [
      "\u001b[1;31m---------------------------------------------------------------------------\u001b[0m",
      "\u001b[1;31mTypeError\u001b[0m                                 Traceback (most recent call last)",
      "\u001b[1;32m<ipython-input-65-fe41d103e0ff>\u001b[0m in \u001b[0;36m<module>\u001b[1;34m\u001b[0m\n\u001b[0;32m      1\u001b[0m \u001b[0mprint\u001b[0m\u001b[1;33m(\u001b[0m\u001b[0mpyrenees_proj\u001b[0m\u001b[1;33m.\u001b[0m\u001b[0mtotal_bounds\u001b[0m\u001b[1;33m)\u001b[0m\u001b[1;33m\u001b[0m\u001b[1;33m\u001b[0m\u001b[0m\n\u001b[0;32m      2\u001b[0m \u001b[0mprint\u001b[0m\u001b[1;33m(\u001b[0m\u001b[0mburnt_pyrenees\u001b[0m\u001b[1;33m.\u001b[0m\u001b[0mtotal_bounds\u001b[0m\u001b[1;33m)\u001b[0m\u001b[1;33m\u001b[0m\u001b[1;33m\u001b[0m\u001b[0m\n\u001b[1;32m----> 3\u001b[1;33m \u001b[0mrasterio\u001b[0m\u001b[1;33m.\u001b[0m\u001b[0mtransform\u001b[0m\u001b[1;33m.\u001b[0m\u001b[0mfrom_origin\u001b[0m\u001b[1;33m(\u001b[0m\u001b[1;33m)\u001b[0m\u001b[1;33m\u001b[0m\u001b[1;33m\u001b[0m\u001b[0m\n\u001b[0m",
      "\u001b[1;31mTypeError\u001b[0m: from_origin() missing 4 required positional arguments: 'west', 'north', 'xsize', and 'ysize'"
     ]
    }
   ],
   "source": [
    "print(pyrenees_proj.total_bounds)\n",
    "print(burnt_pyrenees.total_bounds)"
   ]
  },
  {
   "cell_type": "code",
   "execution_count": null,
   "metadata": {},
   "outputs": [],
   "source": [
    "burnt_proj = burnt.to_crs(epsg='3035')"
   ]
  },
  {
   "cell_type": "code",
   "execution_count": 76,
   "metadata": {},
   "outputs": [
    {
     "name": "stdout",
     "output_type": "stream",
     "text": [
      "[3370329.21071314 2230008.19838224 3553204.79441611 2325000.49717843]\n"
     ]
    },
    {
     "ename": "NameError",
     "evalue": "name 'burnt_proj' is not defined",
     "output_type": "error",
     "traceback": [
      "\u001b[1;31m---------------------------------------------------------------------------\u001b[0m",
      "\u001b[1;31mNameError\u001b[0m                                 Traceback (most recent call last)",
      "\u001b[1;32m<ipython-input-76-2136e8bf3025>\u001b[0m in \u001b[0;36m<module>\u001b[1;34m\u001b[0m\n\u001b[0;32m      7\u001b[0m \u001b[1;33m\u001b[0m\u001b[0m\n\u001b[0;32m      8\u001b[0m \u001b[1;33m\u001b[0m\u001b[0m\n\u001b[1;32m----> 9\u001b[1;33m \u001b[0mbounds\u001b[0m \u001b[1;33m=\u001b[0m \u001b[0mburnt_proj\u001b[0m\u001b[1;33m.\u001b[0m\u001b[0mtotal_bounds\u001b[0m\u001b[1;33m\u001b[0m\u001b[1;33m\u001b[0m\u001b[0m\n\u001b[0m\u001b[0;32m     10\u001b[0m \u001b[0mres\u001b[0m \u001b[1;33m=\u001b[0m \u001b[1;36m100\u001b[0m\u001b[1;33m\u001b[0m\u001b[1;33m\u001b[0m\u001b[0m\n\u001b[0;32m     11\u001b[0m \u001b[1;33m\u001b[0m\u001b[0m\n",
      "\u001b[1;31mNameError\u001b[0m: name 'burnt_proj' is not defined"
     ]
    }
   ],
   "source": [
    "# rasterize the burnt areas to combine it with other rasters\n",
    "# partition the fire date depending on the dates on the available land cover data\n",
    "print(burnt_pyrenees.total_bounds)\n",
    "# print(burnt.to_crs(epsg='3035').total_bounds)\n",
    "# print(land_cov_2000.transform)\n",
    "# print(slope_transform_mask)\n",
    "\n",
    "\n",
    "bounds = burnt_proj.total_bounds\n",
    "res = 100\n",
    "\n",
    "transform = rasterio.transform.from_origin(\n",
    "    west=bounds[0], \n",
    "    north=bounds[3], \n",
    "    xsize=res, \n",
    "    ysize=res\n",
    ")\n",
    "\n",
    "rows = math.ceil((bounds[3] - bounds[1]) / res)\n",
    "cols = math.ceil((bounds[2] - bounds[0]) / res)\n",
    "shape = (rows, cols)\n",
    "\n",
    "print(shape)\n",
    "\n",
    "burnt_areas_raster = rasterio.features.rasterize(\n",
    "    ((g, 1) for g in burnt_proj['geometry'].to_list()),\n",
    "    out_shape=shape,\n",
    "    transform=transform\n",
    ")\n",
    "\n",
    "print(burnt_areas_raster.meta)\n",
    "\n",
    "burnt_area_mask, burnt_area_transform_mask = rasterio.mask.mask(\n",
    "    burnt_areas_raster, \n",
    "    pyrenees_proj.geometry, \n",
    "    crop=True, \n",
    "    nodata=burnt_areas_raster.meta['nodata']\n",
    ")\n",
    "\n",
    "'''for g in burnt['geometry'].tolist():\n",
    "    print((1, g))\n",
    "'''"
   ]
  },
  {
   "cell_type": "markdown",
   "metadata": {},
   "source": [
    "### Protected Areas (France)"
   ]
  },
  {
   "cell_type": "code",
   "execution_count": 69,
   "metadata": {},
   "outputs": [],
   "source": [
    "protected = gpd.read_file(PROTECTED_AREAS_PATH)"
   ]
  },
  {
   "cell_type": "code",
   "execution_count": 70,
   "metadata": {},
   "outputs": [
    {
     "data": {
      "text/html": [
       "<div>\n",
       "<style scoped>\n",
       "    .dataframe tbody tr th:only-of-type {\n",
       "        vertical-align: middle;\n",
       "    }\n",
       "\n",
       "    .dataframe tbody tr th {\n",
       "        vertical-align: top;\n",
       "    }\n",
       "\n",
       "    .dataframe thead th {\n",
       "        text-align: right;\n",
       "    }\n",
       "</style>\n",
       "<table border=\"1\" class=\"dataframe\">\n",
       "  <thead>\n",
       "    <tr style=\"text-align: right;\">\n",
       "      <th></th>\n",
       "      <th>OBJECTID</th>\n",
       "      <th>ID_LOCAL</th>\n",
       "      <th>ID_MNHN</th>\n",
       "      <th>NOM_SITE</th>\n",
       "      <th>DATE_CREA</th>\n",
       "      <th>MODIF_ADM</th>\n",
       "      <th>MODIF_GEO</th>\n",
       "      <th>URL_FICHE</th>\n",
       "      <th>SURF_OFF</th>\n",
       "      <th>ACTE_DEB</th>\n",
       "      <th>...</th>\n",
       "      <th>P10_PUBLIC</th>\n",
       "      <th>P11_DD</th>\n",
       "      <th>P12_AUTRE</th>\n",
       "      <th>ID_TECH</th>\n",
       "      <th>SURF_SIG</th>\n",
       "      <th>CODE_TERRI</th>\n",
       "      <th>STATUT_FON</th>\n",
       "      <th>SHAPE_AREA</th>\n",
       "      <th>SHAPE_LEN</th>\n",
       "      <th>geometry</th>\n",
       "    </tr>\n",
       "  </thead>\n",
       "  <tbody>\n",
       "    <tr>\n",
       "      <th>0</th>\n",
       "      <td>1</td>\n",
       "      <td>None</td>\n",
       "      <td>FR4700001</td>\n",
       "      <td>None</td>\n",
       "      <td>None</td>\n",
       "      <td>None</td>\n",
       "      <td>None</td>\n",
       "      <td>None</td>\n",
       "      <td>0.0</td>\n",
       "      <td>None</td>\n",
       "      <td>...</td>\n",
       "      <td>None</td>\n",
       "      <td>None</td>\n",
       "      <td>None</td>\n",
       "      <td>29_01</td>\n",
       "      <td>0.564999</td>\n",
       "      <td>000</td>\n",
       "      <td>None</td>\n",
       "      <td>0.0</td>\n",
       "      <td>0.0</td>\n",
       "      <td>MULTIPOLYGON (((199437.759 6763968.161, 199433...</td>\n",
       "    </tr>\n",
       "    <tr>\n",
       "      <th>1</th>\n",
       "      <td>2</td>\n",
       "      <td>None</td>\n",
       "      <td>FR4700002</td>\n",
       "      <td>None</td>\n",
       "      <td>None</td>\n",
       "      <td>None</td>\n",
       "      <td>None</td>\n",
       "      <td>None</td>\n",
       "      <td>0.0</td>\n",
       "      <td>None</td>\n",
       "      <td>...</td>\n",
       "      <td>None</td>\n",
       "      <td>None</td>\n",
       "      <td>None</td>\n",
       "      <td>29_02</td>\n",
       "      <td>55.937425</td>\n",
       "      <td>000</td>\n",
       "      <td>None</td>\n",
       "      <td>0.0</td>\n",
       "      <td>0.0</td>\n",
       "      <td>MULTIPOLYGON (((135017.696 6857815.407, 135019...</td>\n",
       "    </tr>\n",
       "    <tr>\n",
       "      <th>...</th>\n",
       "      <td>...</td>\n",
       "      <td>...</td>\n",
       "      <td>...</td>\n",
       "      <td>...</td>\n",
       "      <td>...</td>\n",
       "      <td>...</td>\n",
       "      <td>...</td>\n",
       "      <td>...</td>\n",
       "      <td>...</td>\n",
       "      <td>...</td>\n",
       "      <td>...</td>\n",
       "      <td>...</td>\n",
       "      <td>...</td>\n",
       "      <td>...</td>\n",
       "      <td>...</td>\n",
       "      <td>...</td>\n",
       "      <td>...</td>\n",
       "      <td>...</td>\n",
       "      <td>...</td>\n",
       "      <td>...</td>\n",
       "      <td>...</td>\n",
       "    </tr>\n",
       "    <tr>\n",
       "      <th>3</th>\n",
       "      <td>4</td>\n",
       "      <td>None</td>\n",
       "      <td>FR4700004</td>\n",
       "      <td>None</td>\n",
       "      <td>None</td>\n",
       "      <td>None</td>\n",
       "      <td>None</td>\n",
       "      <td>None</td>\n",
       "      <td>0.0</td>\n",
       "      <td>None</td>\n",
       "      <td>...</td>\n",
       "      <td>None</td>\n",
       "      <td>None</td>\n",
       "      <td>None</td>\n",
       "      <td>29_04</td>\n",
       "      <td>39.168999</td>\n",
       "      <td>000</td>\n",
       "      <td>None</td>\n",
       "      <td>0.0</td>\n",
       "      <td>0.0</td>\n",
       "      <td>MULTIPOLYGON (((145131.796 6863931.431, 145133...</td>\n",
       "    </tr>\n",
       "    <tr>\n",
       "      <th>4</th>\n",
       "      <td>5</td>\n",
       "      <td>None</td>\n",
       "      <td>FR4700005</td>\n",
       "      <td>None</td>\n",
       "      <td>None</td>\n",
       "      <td>None</td>\n",
       "      <td>None</td>\n",
       "      <td>None</td>\n",
       "      <td>0.0</td>\n",
       "      <td>None</td>\n",
       "      <td>...</td>\n",
       "      <td>None</td>\n",
       "      <td>None</td>\n",
       "      <td>None</td>\n",
       "      <td>29_05</td>\n",
       "      <td>0.406897</td>\n",
       "      <td>000</td>\n",
       "      <td>None</td>\n",
       "      <td>0.0</td>\n",
       "      <td>0.0</td>\n",
       "      <td>POLYGON ((185215.026 6772626.016, 185215.365 6...</td>\n",
       "    </tr>\n",
       "  </tbody>\n",
       "</table>\n",
       "<p>5 rows × 35 columns</p>\n",
       "</div>"
      ],
      "text/plain": [
       "    OBJECTID ID_LOCAL    ID_MNHN NOM_SITE DATE_CREA MODIF_ADM MODIF_GEO  \\\n",
       "0          1     None  FR4700001     None      None      None      None   \n",
       "1          2     None  FR4700002     None      None      None      None   \n",
       "..       ...      ...        ...      ...       ...       ...       ...   \n",
       "3          4     None  FR4700004     None      None      None      None   \n",
       "4          5     None  FR4700005     None      None      None      None   \n",
       "\n",
       "   URL_FICHE  SURF_OFF ACTE_DEB  ... P10_PUBLIC P11_DD P12_AUTRE ID_TECH  \\\n",
       "0       None       0.0     None  ...       None   None      None   29_01   \n",
       "1       None       0.0     None  ...       None   None      None   29_02   \n",
       "..       ...       ...      ...  ...        ...    ...       ...     ...   \n",
       "3       None       0.0     None  ...       None   None      None   29_04   \n",
       "4       None       0.0     None  ...       None   None      None   29_05   \n",
       "\n",
       "     SURF_SIG CODE_TERRI STATUT_FON SHAPE_AREA SHAPE_LEN  \\\n",
       "0    0.564999        000       None        0.0       0.0   \n",
       "1   55.937425        000       None        0.0       0.0   \n",
       "..        ...        ...        ...        ...       ...   \n",
       "3   39.168999        000       None        0.0       0.0   \n",
       "4    0.406897        000       None        0.0       0.0   \n",
       "\n",
       "                                             geometry  \n",
       "0   MULTIPOLYGON (((199437.759 6763968.161, 199433...  \n",
       "1   MULTIPOLYGON (((135017.696 6857815.407, 135019...  \n",
       "..                                                ...  \n",
       "3   MULTIPOLYGON (((145131.796 6863931.431, 145133...  \n",
       "4   POLYGON ((185215.026 6772626.016, 185215.365 6...  \n",
       "\n",
       "[5 rows x 35 columns]"
      ]
     },
     "execution_count": 70,
     "metadata": {},
     "output_type": "execute_result"
    }
   ],
   "source": [
    "protected.head()"
   ]
  },
  {
   "cell_type": "code",
   "execution_count": 71,
   "metadata": {},
   "outputs": [
    {
     "data": {
      "text/plain": [
       "<AxesSubplot: >"
      ]
     },
     "execution_count": 71,
     "metadata": {},
     "output_type": "execute_result"
    },
    {
     "data": {
      "image/png": "[encoded data removed]",
      "text/plain": [
       "<Figure size 432x288 with 1 Axes>"
      ]
     },
     "metadata": {
      "needs_background": "light"
     },
     "output_type": "display_data"
    }
   ],
   "source": [
    "protected.plot()"
   ]
  },
  {
   "cell_type": "code",
   "execution_count": 72,
   "metadata": {},
   "outputs": [
    {
     "data": {
      "text/plain": [
       "{'proj': 'lcc',\n",
       " 'lat_1': 44,\n",
       " 'lat_2': 49,\n",
       " 'lat_0': 46.5,\n",
       " 'lon_0': 3,\n",
       " 'x_0': 700000,\n",
       " 'y_0': 6600000,\n",
       " 'ellps': 'GRS80',\n",
       " 'units': 'm',\n",
       " 'no_defs': True}"
      ]
     },
     "execution_count": 72,
     "metadata": {},
     "output_type": "execute_result"
    }
   ],
   "source": [
    "protected['geometry'].crs"
   ]
  },
  {
   "cell_type": "code",
   "execution_count": 73,
   "metadata": {},
   "outputs": [
    {
     "data": {
      "text/plain": [
       "CRS.from_wkt('LOCAL_CS[\"ETRS89-extended / LAEA Europe\",UNIT[\"metre\",1,AUTHORITY[\"EPSG\",\"9001\"]],AXIS[\"Easting\",EAST],AXIS[\"Northing\",NORTH]]')"
      ]
     },
     "execution_count": 73,
     "metadata": {},
     "output_type": "execute_result"
    }
   ],
   "source": [
    "dem_reproj.crs"
   ]
  },
  {
   "cell_type": "code",
   "execution_count": 74,
   "metadata": {},
   "outputs": [
    {
     "data": {
      "text/plain": [
       "<AxesSubplot: >"
      ]
     },
     "execution_count": 74,
     "metadata": {},
     "output_type": "execute_result"
    },
    {
     "data": {
      "image/png": "[encoded data removed]",
      "text/plain": [
       "<Figure size 432x288 with 1 Axes>"
      ]
     },
     "metadata": {
      "needs_background": "light"
     },
     "output_type": "display_data"
    }
   ],
   "source": [
    "protected.to_crs(epsg='3035').plot()"
   ]
  },
  {
   "cell_type": "markdown",
   "metadata": {},
   "source": [
    "### Vegetation"
   ]
  },
  {
   "cell_type": "code",
   "execution_count": 61,
   "metadata": {},
   "outputs": [],
   "source": []
  }
 ],
 "metadata": {
  "kernelspec": {
   "display_name": "Python 3 (ipykernel)",
   "language": "python",
   "name": "python3"
  },
  "language_info": {
   "codemirror_mode": {
    "name": "ipython",
    "version": 3
   },
   "file_extension": ".py",
   "mimetype": "text/x-python",
   "name": "python",
   "nbconvert_exporter": "python",
   "pygments_lexer": "ipython3",
   "version": "3.9.7"
  },
  "toc": {
   "base_numbering": 1,
   "nav_menu": {},
   "number_sections": true,
   "sideBar": true,
   "skip_h1_title": false,
   "title_cell": "Table of Contents",
   "title_sidebar": "Contents",
   "toc_cell": false,
   "toc_position": {},
   "toc_section_display": true,
   "toc_window_display": false
  },
  "varInspector": {
   "cols": {
    "lenName": 16,
    "lenType": 16,
    "lenVar": 40
   },
   "kernels_config": {
    "python": {
     "delete_cmd_postfix": "",
     "delete_cmd_prefix": "del ",
     "library": "var_list.py",
     "varRefreshCmd": "print(var_dic_list())"
    },
    "r": {
     "delete_cmd_postfix": ") ",
     "delete_cmd_prefix": "rm(",
     "library": "var_list.r",
     "varRefreshCmd": "cat(var_dic_list()) "
    }
   },
   "types_to_exclude": [
    "module",
    "function",
    "builtin_function_or_method",
    "instance",
    "_Feature"
   ],
   "window_display": false
  }
 },
 "nbformat": 4,
 "nbformat_minor": 4
}
